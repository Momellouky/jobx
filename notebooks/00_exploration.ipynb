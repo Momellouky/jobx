{
 "cells": [
  {
   "cell_type": "code",
   "execution_count": 2,
   "id": "5e54f29f-3fd3-4ad1-acd3-d74918ad683f",
   "metadata": {
    "scrolled": true
   },
   "outputs": [],
   "source": [
    "import pandas as pd "
   ]
  },
  {
   "cell_type": "code",
   "execution_count": 3,
   "id": "3eb74755-afe7-498d-9438-3765389f785b",
   "metadata": {},
   "outputs": [],
   "source": [
    "DATA_PATH = \"../data/raw/\"\n",
    "RAW_DATA = \"survey_results_public.csv\""
   ]
  },
  {
   "cell_type": "code",
   "execution_count": 5,
   "id": "27339142-a72e-4baf-8424-01bc7abc5415",
   "metadata": {},
   "outputs": [],
   "source": [
    "df = pd.read_csv(DATA_PATH + RAW_DATA) "
   ]
  },
  {
   "cell_type": "code",
   "execution_count": 6,
   "id": "fdd599fb-87e9-478b-84c9-9063d24e845c",
   "metadata": {},
   "outputs": [
    {
     "name": "stdout",
     "output_type": "stream",
     "text": [
      "Dataset size : (83439, 48)\n"
     ]
    }
   ],
   "source": [
    "# Check dataset size\n",
    "\n",
    "print(f\"Dataset size : {df.shape}\")"
   ]
  },
  {
   "cell_type": "code",
   "execution_count": 12,
   "id": "c3874a91-caa5-46f9-a0ff-633c7bc0cddd",
   "metadata": {},
   "outputs": [
    {
     "name": "stdout",
     "output_type": "stream",
     "text": [
      "Number of NaN in ResponseId : 0\n",
      "Which is 0.00% of the dataset.\n",
      "---------------------------------------------------------\n",
      "Number of NaN in MainBranch : 0\n",
      "Which is 0.00% of the dataset.\n",
      "---------------------------------------------------------\n",
      "Number of NaN in Employment : 116\n",
      "Which is 0.14% of the dataset.\n",
      "---------------------------------------------------------\n",
      "Number of NaN in Country : 0\n",
      "Which is 0.00% of the dataset.\n",
      "---------------------------------------------------------\n",
      "Number of NaN in US_State : 68519\n",
      "Which is 82.12% of the dataset.\n",
      "---------------------------------------------------------\n",
      "Number of NaN in UK_Country : 79021\n",
      "Which is 94.71% of the dataset.\n",
      "---------------------------------------------------------\n",
      "Number of NaN in EdLevel : 313\n",
      "Which is 0.38% of the dataset.\n",
      "---------------------------------------------------------\n",
      "Number of NaN in Age1stCode : 196\n",
      "Which is 0.23% of the dataset.\n",
      "---------------------------------------------------------\n",
      "Number of NaN in LearnCode : 476\n",
      "Which is 0.57% of the dataset.\n",
      "---------------------------------------------------------\n",
      "Number of NaN in YearsCode : 1798\n",
      "Which is 2.15% of the dataset.\n",
      "---------------------------------------------------------\n",
      "Number of NaN in YearsCodePro : 22223\n",
      "Which is 26.63% of the dataset.\n",
      "---------------------------------------------------------\n",
      "Number of NaN in DevType : 16955\n",
      "Which is 20.32% of the dataset.\n",
      "---------------------------------------------------------\n",
      "Number of NaN in OrgSize : 22713\n",
      "Which is 27.22% of the dataset.\n",
      "---------------------------------------------------------\n",
      "Number of NaN in Currency : 22359\n",
      "Which is 26.80% of the dataset.\n",
      "---------------------------------------------------------\n",
      "Number of NaN in CompTotal : 36256\n",
      "Which is 43.45% of the dataset.\n",
      "---------------------------------------------------------\n",
      "Number of NaN in CompFreq : 31289\n",
      "Which is 37.50% of the dataset.\n",
      "---------------------------------------------------------\n",
      "Number of NaN in LanguageHaveWorkedWith : 1082\n",
      "Which is 1.30% of the dataset.\n",
      "---------------------------------------------------------\n",
      "Number of NaN in LanguageWantToWorkWith : 6618\n",
      "Which is 7.93% of the dataset.\n",
      "---------------------------------------------------------\n",
      "Number of NaN in DatabaseHaveWorkedWith : 13893\n",
      "Which is 16.65% of the dataset.\n",
      "---------------------------------------------------------\n",
      "Number of NaN in DatabaseWantToWorkWith : 25140\n",
      "Which is 30.13% of the dataset.\n",
      "---------------------------------------------------------\n",
      "Number of NaN in PlatformHaveWorkedWith : 31304\n",
      "Which is 37.52% of the dataset.\n",
      "---------------------------------------------------------\n",
      "Number of NaN in PlatformWantToWorkWith : 41820\n",
      "Which is 50.12% of the dataset.\n",
      "---------------------------------------------------------\n",
      "Number of NaN in WebframeHaveWorkedWith : 21732\n",
      "Which is 26.05% of the dataset.\n",
      "---------------------------------------------------------\n",
      "Number of NaN in WebframeWantToWorkWith : 31344\n",
      "Which is 37.57% of the dataset.\n",
      "---------------------------------------------------------\n",
      "Number of NaN in MiscTechHaveWorkedWith : 36384\n",
      "Which is 43.61% of the dataset.\n",
      "---------------------------------------------------------\n",
      "Number of NaN in MiscTechWantToWorkWith : 45418\n",
      "Which is 54.43% of the dataset.\n",
      "---------------------------------------------------------\n",
      "Number of NaN in ToolsTechHaveWorkedWith : 10902\n",
      "Which is 13.07% of the dataset.\n",
      "---------------------------------------------------------\n",
      "Number of NaN in ToolsTechWantToWorkWith : 17959\n",
      "Which is 21.52% of the dataset.\n",
      "---------------------------------------------------------\n",
      "Number of NaN in NEWCollabToolsHaveWorkedWith : 2205\n",
      "Which is 2.64% of the dataset.\n",
      "---------------------------------------------------------\n",
      "Number of NaN in NEWCollabToolsWantToWorkWith : 10417\n",
      "Which is 12.48% of the dataset.\n",
      "---------------------------------------------------------\n",
      "Number of NaN in OpSys : 145\n",
      "Which is 0.17% of the dataset.\n",
      "---------------------------------------------------------\n",
      "Number of NaN in NEWStuck : 387\n",
      "Which is 0.46% of the dataset.\n",
      "---------------------------------------------------------\n",
      "Number of NaN in NEWSOSites : 268\n",
      "Which is 0.32% of the dataset.\n",
      "---------------------------------------------------------\n",
      "Number of NaN in SOVisitFreq : 1026\n",
      "Which is 1.23% of the dataset.\n",
      "---------------------------------------------------------\n",
      "Number of NaN in SOAccount : 914\n",
      "Which is 1.10% of the dataset.\n",
      "---------------------------------------------------------\n",
      "Number of NaN in SOPartFreq : 15886\n",
      "Which is 19.04% of the dataset.\n",
      "---------------------------------------------------------\n",
      "Number of NaN in SOComm : 1120\n",
      "Which is 1.34% of the dataset.\n",
      "---------------------------------------------------------\n",
      "Number of NaN in NEWOtherComms : 611\n",
      "Which is 0.73% of the dataset.\n",
      "---------------------------------------------------------\n",
      "Number of NaN in Age : 1032\n",
      "Which is 1.24% of the dataset.\n",
      "---------------------------------------------------------\n",
      "Number of NaN in Gender : 1153\n",
      "Which is 1.38% of the dataset.\n",
      "---------------------------------------------------------\n",
      "Number of NaN in Trans : 2761\n",
      "Which is 3.31% of the dataset.\n",
      "---------------------------------------------------------\n",
      "Number of NaN in Sexuality : 10073\n",
      "Which is 12.07% of the dataset.\n",
      "---------------------------------------------------------\n",
      "Number of NaN in Ethnicity : 3975\n",
      "Which is 4.76% of the dataset.\n",
      "---------------------------------------------------------\n",
      "Number of NaN in Accessibility : 5836\n",
      "Which is 6.99% of the dataset.\n",
      "---------------------------------------------------------\n",
      "Number of NaN in MentalHealth : 6519\n",
      "Which is 7.81% of the dataset.\n",
      "---------------------------------------------------------\n",
      "Number of NaN in SurveyLength : 1728\n",
      "Which is 2.07% of the dataset.\n",
      "---------------------------------------------------------\n",
      "Number of NaN in SurveyEase : 1491\n",
      "Which is 1.79% of the dataset.\n",
      "---------------------------------------------------------\n",
      "Number of NaN in ConvertedCompYearly : 36595\n",
      "Which is 43.86% of the dataset.\n",
      "---------------------------------------------------------\n"
     ]
    }
   ],
   "source": [
    "# Check how many null objects in the datset. \n",
    "\n",
    "for column in df.columns : \n",
    "    print(f\"Number of NaN in {column} : {df[column].isna().sum()}\")\n",
    "    missing_percentage = (df[column].isna().sum() / df.shape[0]) * 100\n",
    "    formatted_percentage = \"{:.2f}\".format(missing_percentage)\n",
    "    print(f\"Which is {formatted_percentage}% of the dataset.\")\n",
    "    print(\"---------------------------------------------------------\")"
   ]
  },
  {
   "cell_type": "code",
   "execution_count": 26,
   "id": "71df3001-b293-43d9-8f58-5aeed71cd47f",
   "metadata": {},
   "outputs": [
    {
     "name": "stdout",
     "output_type": "stream",
     "text": [
      "- US_State\n",
      "---------------------------------------------------------\n",
      "- UK_Country\n",
      "---------------------------------------------------------\n",
      "- PlatformWantToWorkWith\n",
      "---------------------------------------------------------\n",
      "- MiscTechWantToWorkWith\n",
      "---------------------------------------------------------\n"
     ]
    }
   ],
   "source": [
    "# Save the column names where the misssing_percentage is greater than 80% \n",
    "\n",
    "high_missing_percentage_columns = []\n",
    "\n",
    "for column in df.columns : \n",
    "    missing_percentage = (df[column].isna().sum() / df.shape[0]) * 100\n",
    "    formatted_percentage = \"{:.2f}\".format(missing_percentage)\n",
    "    if missing_percentage > 50 : \n",
    "        high_missing_percentage_columns.append(column)\n",
    "        print(f\"- {column}\")\n",
    "        print(\"---------------------------------------------------------\")"
   ]
  },
  {
   "cell_type": "code",
   "execution_count": 22,
   "id": "0264ece0-e1a8-4cbd-bd3e-a9bc24c42556",
   "metadata": {},
   "outputs": [
    {
     "data": {
      "text/plain": [
       "ResponseId                                                                  20884\n",
       "MainBranch                                         I am a developer by profession\n",
       "Employment                      Independent contractor, freelancer, or self-em...\n",
       "Country                                                                    France\n",
       "US_State                                                                      NaN\n",
       "UK_Country                                                                    NaN\n",
       "EdLevel                         Some college/university study without earning ...\n",
       "Age1stCode                                                          11 - 17 years\n",
       "LearnCode                       Other online resources (ex: videos, blogs, etc...\n",
       "YearsCode                                                                      24\n",
       "YearsCodePro                                                                   24\n",
       "DevType                         Developer, front-end;Developer, desktop or ent...\n",
       "OrgSize                                                      100 to 499 employees\n",
       "Currency                                                        EUR European Euro\n",
       "CompTotal                                                                  4500.0\n",
       "CompFreq                                                                  Monthly\n",
       "LanguageHaveWorkedWith                      C#;HTML/CSS;JavaScript;SQL;TypeScript\n",
       "LanguageWantToWorkWith                      C#;HTML/CSS;JavaScript;SQL;TypeScript\n",
       "DatabaseHaveWorkedWith                                 Microsoft SQL Server;Redis\n",
       "DatabaseWantToWorkWith                    Microsoft SQL Server;MongoDB;PostgreSQL\n",
       "PlatformHaveWorkedWith                                            Microsoft Azure\n",
       "PlatformWantToWorkWith                                            Microsoft Azure\n",
       "WebframeHaveWorkedWith                                      Angular;ASP.NET Core \n",
       "WebframeWantToWorkWith                                      Angular;ASP.NET Core \n",
       "MiscTechHaveWorkedWith                                         .NET Core / .NET 5\n",
       "MiscTechWantToWorkWith                                         .NET Core / .NET 5\n",
       "ToolsTechHaveWorkedWith                                                       Git\n",
       "ToolsTechWantToWorkWith                                     Docker;Git;Kubernetes\n",
       "NEWCollabToolsHaveWorkedWith                              Notepad++;Visual Studio\n",
       "NEWCollabToolsWantToWorkWith                          Notepad++;Vim;Visual Studio\n",
       "OpSys                                                                     Windows\n",
       "NEWStuck                        Call a coworker or friend;Visit Stack Overflow...\n",
       "NEWSOSites                                                         Stack Overflow\n",
       "SOVisitFreq                                                 Daily or almost daily\n",
       "SOAccount                                                                     Yes\n",
       "SOPartFreq                                        A few times per month or weekly\n",
       "SOComm                                                              Yes, somewhat\n",
       "NEWOtherComms                                                                  No\n",
       "Age                                                               45-54 years old\n",
       "Gender                                                                        Man\n",
       "Trans                                                                          No\n",
       "Sexuality                                                 Straight / Heterosexual\n",
       "Ethnicity                                            White or of European descent\n",
       "Accessibility                                                   None of the above\n",
       "MentalHealth                                                    Prefer not to say\n",
       "SurveyLength                                                Appropriate in length\n",
       "SurveyEase                                                                   Easy\n",
       "ConvertedCompYearly                                                       58368.0\n",
       "Name: 20883, dtype: object"
      ]
     },
     "execution_count": 22,
     "metadata": {},
     "output_type": "execute_result"
    }
   ],
   "source": [
    "# Visualize some values of US_State and UK_Country\n",
    "\n",
    "index = df[high_missing_percentage_columns].sample(1).index[0]\n",
    "df.iloc[index]"
   ]
  },
  {
   "cell_type": "code",
   "execution_count": 40,
   "id": "a0f95636-8785-4e38-92a2-2c5cdfa0a4af",
   "metadata": {},
   "outputs": [
    {
     "data": {
      "text/plain": [
       "ResponseId                                                                  52731\n",
       "MainBranch                                         I am a developer by profession\n",
       "Employment                                                     Employed full-time\n",
       "Country                                                  United States of America\n",
       "US_State                                                                    Idaho\n",
       "UK_Country                                                                    NaN\n",
       "EdLevel                              Bachelor’s degree (B.A., B.S., B.Eng., etc.)\n",
       "Age1stCode                                                          11 - 17 years\n",
       "LearnCode                                          School;Other (please specify):\n",
       "YearsCode                                                                       8\n",
       "YearsCodePro                                                                    7\n",
       "DevType                                                     Developer, full-stack\n",
       "OrgSize                                                          2 to 9 employees\n",
       "Currency                                                USD\\tUnited States dollar\n",
       "CompTotal                                                                  1000.0\n",
       "CompFreq                                                                   Weekly\n",
       "LanguageHaveWorkedWith          Bash/Shell;Dart;HTML/CSS;JavaScript;Node.js;Ty...\n",
       "LanguageWantToWorkWith          Bash/Shell;Dart;HTML/CSS;JavaScript;Node.js;Ty...\n",
       "DatabaseHaveWorkedWith                                                   Firebase\n",
       "DatabaseWantToWorkWith                                            Firebase;SQLite\n",
       "PlatformHaveWorkedWith                                                     Heroku\n",
       "PlatformWantToWorkWith                                                        NaN\n",
       "WebframeHaveWorkedWith                                            Gatsby;React.js\n",
       "WebframeWantToWorkWith                                            Gatsby;React.js\n",
       "MiscTechHaveWorkedWith                                       Flutter;React Native\n",
       "MiscTechWantToWorkWith                                       Flutter;React Native\n",
       "ToolsTechHaveWorkedWith                                         Git;Unity 3D;Yarn\n",
       "ToolsTechWantToWorkWith                                         Git;Unity 3D;Yarn\n",
       "NEWCollabToolsHaveWorkedWith              Android Studio;Visual Studio Code;Xcode\n",
       "NEWCollabToolsWantToWorkWith                    Android Studio;Visual Studio Code\n",
       "OpSys                                                                       MacOS\n",
       "NEWStuck                        Visit Stack Overflow;Google it;Other (please s...\n",
       "NEWSOSites                                          Stack Overflow;Stack Exchange\n",
       "SOVisitFreq                                                  A few times per week\n",
       "SOAccount                                                                     Yes\n",
       "SOPartFreq                      I have never participated in Q&A on Stack Over...\n",
       "SOComm                                                             No, not really\n",
       "NEWOtherComms                                                                  No\n",
       "Age                                                               25-34 years old\n",
       "Gender                                                                        Man\n",
       "Trans                                                                          No\n",
       "Sexuality                                                 Straight / Heterosexual\n",
       "Ethnicity                                            White or of European descent\n",
       "Accessibility                                                   None of the above\n",
       "MentalHealth                    I have a concentration and/or memory disorder ...\n",
       "SurveyLength                                                Appropriate in length\n",
       "SurveyEase                                                                   Easy\n",
       "ConvertedCompYearly                                                       50000.0\n",
       "Name: 52730, dtype: object"
      ]
     },
     "execution_count": 40,
     "metadata": {},
     "output_type": "execute_result"
    }
   ],
   "source": [
    "index = df[df['Country'] == 'United States of America'].sample(1).index[0]\n",
    "df.iloc[index]"
   ]
  },
  {
   "cell_type": "code",
   "execution_count": 27,
   "id": "9fafff57-36d1-41ca-8382-b81179d31e54",
   "metadata": {},
   "outputs": [
    {
     "name": "stdout",
     "output_type": "stream",
     "text": [
      "<class 'pandas.core.frame.DataFrame'>\n",
      "RangeIndex: 83439 entries, 0 to 83438\n",
      "Data columns (total 48 columns):\n",
      " #   Column                        Non-Null Count  Dtype  \n",
      "---  ------                        --------------  -----  \n",
      " 0   ResponseId                    83439 non-null  int64  \n",
      " 1   MainBranch                    83439 non-null  object \n",
      " 2   Employment                    83323 non-null  object \n",
      " 3   Country                       83439 non-null  object \n",
      " 4   US_State                      14920 non-null  object \n",
      " 5   UK_Country                    4418 non-null   object \n",
      " 6   EdLevel                       83126 non-null  object \n",
      " 7   Age1stCode                    83243 non-null  object \n",
      " 8   LearnCode                     82963 non-null  object \n",
      " 9   YearsCode                     81641 non-null  object \n",
      " 10  YearsCodePro                  61216 non-null  object \n",
      " 11  DevType                       66484 non-null  object \n",
      " 12  OrgSize                       60726 non-null  object \n",
      " 13  Currency                      61080 non-null  object \n",
      " 14  CompTotal                     47183 non-null  float64\n",
      " 15  CompFreq                      52150 non-null  object \n",
      " 16  LanguageHaveWorkedWith        82357 non-null  object \n",
      " 17  LanguageWantToWorkWith        76821 non-null  object \n",
      " 18  DatabaseHaveWorkedWith        69546 non-null  object \n",
      " 19  DatabaseWantToWorkWith        58299 non-null  object \n",
      " 20  PlatformHaveWorkedWith        52135 non-null  object \n",
      " 21  PlatformWantToWorkWith        41619 non-null  object \n",
      " 22  WebframeHaveWorkedWith        61707 non-null  object \n",
      " 23  WebframeWantToWorkWith        52095 non-null  object \n",
      " 24  MiscTechHaveWorkedWith        47055 non-null  object \n",
      " 25  MiscTechWantToWorkWith        38021 non-null  object \n",
      " 26  ToolsTechHaveWorkedWith       72537 non-null  object \n",
      " 27  ToolsTechWantToWorkWith       65480 non-null  object \n",
      " 28  NEWCollabToolsHaveWorkedWith  81234 non-null  object \n",
      " 29  NEWCollabToolsWantToWorkWith  73022 non-null  object \n",
      " 30  OpSys                         83294 non-null  object \n",
      " 31  NEWStuck                      83052 non-null  object \n",
      " 32  NEWSOSites                    83171 non-null  object \n",
      " 33  SOVisitFreq                   82413 non-null  object \n",
      " 34  SOAccount                     82525 non-null  object \n",
      " 35  SOPartFreq                    67553 non-null  object \n",
      " 36  SOComm                        82319 non-null  object \n",
      " 37  NEWOtherComms                 82828 non-null  object \n",
      " 38  Age                           82407 non-null  object \n",
      " 39  Gender                        82286 non-null  object \n",
      " 40  Trans                         80678 non-null  object \n",
      " 41  Sexuality                     73366 non-null  object \n",
      " 42  Ethnicity                     79464 non-null  object \n",
      " 43  Accessibility                 77603 non-null  object \n",
      " 44  MentalHealth                  76920 non-null  object \n",
      " 45  SurveyLength                  81711 non-null  object \n",
      " 46  SurveyEase                    81948 non-null  object \n",
      " 47  ConvertedCompYearly           46844 non-null  float64\n",
      "dtypes: float64(2), int64(1), object(45)\n",
      "memory usage: 30.6+ MB\n"
     ]
    }
   ],
   "source": [
    "# check how many numerical values on the dataset \n",
    "\n",
    "df.info() "
   ]
  },
  {
   "cell_type": "code",
   "execution_count": 39,
   "id": "a83d29fe-ecae-4db4-a37b-a27b55b93805",
   "metadata": {},
   "outputs": [
    {
     "data": {
      "text/plain": [
       "{'non_numerical_columns': 45, 'numerical_columns': 3}"
      ]
     },
     "execution_count": 39,
     "metadata": {},
     "output_type": "execute_result"
    }
   ],
   "source": [
    "# Check how many numerical values in the dataset \n",
    "\n",
    "column_type_counts = {\n",
    "    'non_numerical_columns': 0,\n",
    "    'numerical_columns': 0\n",
    "}\n",
    "\n",
    "for column in df.columns : \n",
    "    if df[column].dtype == numpy.dtypes.ObjectDType : \n",
    "        column_type_counts['non_numerical_columns'] += 1\n",
    "    else : \n",
    "        column_type_counts['numerical_columns'] += 1\n",
    "        \n",
    "column_type_counts\n",
    "\n",
    "# Based on the results, this is not accurate. \n",
    "# The results shows that we have 3 numerical values \n",
    "# in fact, we have other 2 numerical features that are \n",
    "# considered as object"
   ]
  },
  {
   "cell_type": "code",
   "execution_count": 42,
   "id": "eff6001f-22f2-4d15-b87a-d3c303fd1fc1",
   "metadata": {},
   "outputs": [
    {
     "name": "stdout",
     "output_type": "stream",
     "text": [
      "Unique values: \n",
      "[nan '7' '17' '3' '4' '6' '16' '12' '15' '10' '40' '9' '26' '14' '39' '20'\n",
      " '8' '19' '5' 'Less than 1 year' '22' '2' '1' '34' '21' '13' '25' '24'\n",
      " '30' '31' '18' '38' 'More than 50 years' '27' '41' '42' '35' '23' '28'\n",
      " '11' '37' '44' '43' '36' '33' '45' '29' '50' '46' '32' '47' '49' '48']\n",
      "-------------------------------------\n",
      "Unique values: \n",
      "[nan '10' '4' '5' '6' '2' '30' '9' '18' '12' '21' '1' '16'\n",
      " 'Less than 1 year' '15' '3' '35' '7' '8' '17' '14' '26' '25' '20' '50'\n",
      " '34' '11' '24' '22' '13' '31' '23' '39' '41' '27' '28' '19' '33'\n",
      " 'More than 50 years' '37' '29' '32' '43' '40' '38' '45' '42' '46' '36'\n",
      " '44' '47' '48' '49']\n",
      "-------------------------------------\n"
     ]
    }
   ],
   "source": [
    "# Why the two numerical features are considered as object \n",
    "\n",
    "num_feats = ['YearsCode', 'YearsCodePro'] \n",
    "\n",
    "for feat in num_feats : \n",
    "    print(f\"Unique values: \\n{df[feat].unique()}\") \n",
    "    print(\"-------------------------------------\")"
   ]
  },
  {
   "cell_type": "code",
   "execution_count": 43,
   "id": "45c6b10f-f4b2-4f96-885d-e62c07925e6a",
   "metadata": {},
   "outputs": [],
   "source": [
    "# This two features contains string values. Therefore, pandas \n",
    "# is not able to interpret these columns as numerical. \n",
    "# We should handle this issue in the pre-processing step. "
   ]
  },
  {
   "cell_type": "code",
   "execution_count": 48,
   "id": "7fc9a4c6-8b58-4e3e-8608-4f42cfe6246e",
   "metadata": {},
   "outputs": [
    {
     "name": "stdout",
     "output_type": "stream",
     "text": [
      "Unique values: \n",
      "['18 - 24 years' '11 - 17 years' '5 - 10 years' '25 - 34 years'\n",
      " '35 - 44 years' 'Younger than 5 years' '45 - 54 years' '55 - 64 years'\n",
      " nan 'Older than 64 years']\n",
      "-------------------------------------\n",
      "Unique values: \n",
      "[4.800e+03       nan 4.200e+04 ... 8.880e+04 6.500e+01 1.605e+05]\n",
      "-------------------------------------\n"
     ]
    }
   ],
   "source": [
    "# Check other potential numerical features \n",
    "\n",
    "other_pnum_feats = ['Age1stCode', 'CompTotal']\n",
    "for feat in other_pnum_feats : \n",
    "    print(f\"Unique values: \\n{df[feat].unique()}\") \n",
    "    print(\"-------------------------------------\")"
   ]
  },
  {
   "cell_type": "code",
   "execution_count": 47,
   "id": "70ef4f10-731a-49e4-8df3-e48dd3cd6624",
   "metadata": {},
   "outputs": [
    {
     "data": {
      "text/plain": [
       "array(['25-34 years old', '18-24 years old', '35-44 years old',\n",
       "       'Prefer not to say', '45-54 years old', 'Under 18 years old',\n",
       "       '65 years or older', '55-64 years old', nan], dtype=object)"
      ]
     },
     "execution_count": 47,
     "metadata": {},
     "output_type": "execute_result"
    }
   ],
   "source": [
    "df['Age'].unique()"
   ]
  },
  {
   "cell_type": "code",
   "execution_count": null,
   "id": "fe87e94e-989d-48ca-94a2-6db94e449eab",
   "metadata": {},
   "outputs": [],
   "source": [
    "# We have also the SOAccount feature that have a form \n",
    "# of boolean feature with three possible values \n",
    "# Yes, No, not sure which could be translated to 1, -1, 0\n",
    "\n",
    "# ---------------------------------------------------------------------\n",
    "\n",
    "# SOComm is another feature that have a form of slider \n",
    "# of 5/6 possible values"
   ]
  }
 ],
 "metadata": {
  "kernelspec": {
   "display_name": "Python 3 (ipykernel)",
   "language": "python",
   "name": "python3"
  },
  "language_info": {
   "codemirror_mode": {
    "name": "ipython",
    "version": 3
   },
   "file_extension": ".py",
   "mimetype": "text/x-python",
   "name": "python",
   "nbconvert_exporter": "python",
   "pygments_lexer": "ipython3",
   "version": "3.10.12"
  }
 },
 "nbformat": 4,
 "nbformat_minor": 5
}
