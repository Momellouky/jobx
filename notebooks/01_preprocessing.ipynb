{
 "cells": [
  {
   "cell_type": "code",
   "execution_count": 56,
   "id": "f0cb3eea-7e34-40fb-8c8e-759e6021a9d1",
   "metadata": {},
   "outputs": [],
   "source": [
    "import pandas as pd "
   ]
  },
  {
   "cell_type": "code",
   "execution_count": 107,
   "id": "226961a1-2635-4686-9e58-d66938c57734",
   "metadata": {},
   "outputs": [],
   "source": [
    "DATA_PATH = \"../data/raw/\"\n",
    "EXPORT_PATH = \"../data/processed/\"\n",
    "RAW_DATA = \"survey_results_public.csv\""
   ]
  },
  {
   "cell_type": "code",
   "execution_count": 58,
   "id": "542167c0-2708-48e8-82b3-4ca073a73845",
   "metadata": {},
   "outputs": [],
   "source": [
    "raw_df = pd.read_csv(DATA_PATH + RAW_DATA) \n",
    "df = raw_df.copy()"
   ]
  },
  {
   "cell_type": "markdown",
   "id": "6e151222-d207-464f-92fc-f7b5615377ec",
   "metadata": {},
   "source": [
    "# Convert features to numerical values"
   ]
  },
  {
   "cell_type": "code",
   "execution_count": 59,
   "id": "8da29642-e35f-40f9-9de2-135f72a1e202",
   "metadata": {},
   "outputs": [],
   "source": [
    "CONVERTION_DICT = {\n",
    "    'YearsCode' : { 'Less than 1 year' : 0, 'More than 50 years' : 51 },\n",
    "    'YearsCodePro' : { 'Less than 1 year' : 0, 'More than 50 years' : 51 }\n",
    "}"
   ]
  },
  {
   "cell_type": "code",
   "execution_count": 60,
   "id": "234980c1-84d2-462c-bb62-5c7f9f106fbd",
   "metadata": {},
   "outputs": [],
   "source": [
    "\n",
    "df = df.replace(CONVERTION_DICT)\n"
   ]
  },
  {
   "cell_type": "markdown",
   "id": "e7455186-eae4-4e4d-8b16-6cd46cb8be02",
   "metadata": {},
   "source": [
    "# Split columns "
   ]
  },
  {
   "cell_type": "code",
   "execution_count": 61,
   "id": "11617a74-c96e-465b-875d-fdf41411c4e9",
   "metadata": {},
   "outputs": [],
   "source": [
    "def split_answers(df, delimiter = ';') : \n",
    "    '''\n",
    "    Split the survey answers seperated by a delimiter to form a list\n",
    "    params : \n",
    "        series : the pandas serie that holds the data to split\n",
    "        delimiter : the delimiter based on which we make the split. Default value ';'\n",
    "    Return : List of the comma seperated values\n",
    "    '''\n",
    "    _df = df.copy() \n",
    "    \n",
    "    def get_split_cols(df, delimiter = ';') :\n",
    "        '''\n",
    "        get the columns that meat the conditions and should be splitted\n",
    "        params : \n",
    "            serie : the pandas series that holds the data\n",
    "            delimiter : the delimiter based on which we make the split. Default value ';'   \n",
    "        '''\n",
    "\n",
    "        obj_columns = df.select_dtypes(include='object').columns\n",
    "        split_cols = []\n",
    "        for column in obj_columns :\n",
    "            if True in df[column].str.contains(';').tolist() : \n",
    "                split_cols.append(column)\n",
    "\n",
    "        return split_cols \n",
    "\n",
    "    split_cols = get_split_cols(_df)\n",
    "    for column in split_cols :\n",
    "        modified_series = _df[column].str.split(';') \n",
    "        # Replace NAs with empty lists \n",
    "        mask_null = modified_series.isnull()\n",
    "        modified_series.loc[mask_null] = modified_series.loc[mask_null].apply(lambda x: [])\n",
    "        _df[column] = modified_series\n",
    "\n",
    "    return _df \n",
    "\n",
    "    "
   ]
  },
  {
   "cell_type": "code",
   "execution_count": 62,
   "id": "2aaae11e-1032-4b6f-b8d0-a4e46d285b1b",
   "metadata": {},
   "outputs": [],
   "source": [
    "splitted_df = split_answers(df)"
   ]
  },
  {
   "cell_type": "markdown",
   "id": "770ed7a9-a99e-4fd3-a9e1-6a077afd0a63",
   "metadata": {},
   "source": [
    "# Visual Verification "
   ]
  },
  {
   "cell_type": "code",
   "execution_count": 67,
   "id": "d9242c0a-3013-42bf-a881-28077db3c05f",
   "metadata": {},
   "outputs": [
    {
     "name": "stdout",
     "output_type": "stream",
     "text": [
      "C;C++;HTML/CSS;JavaScript;Node.js;PHP\n",
      "['C', 'C++', 'HTML/CSS', 'JavaScript', 'Node.js', 'PHP']\n"
     ]
    }
   ],
   "source": [
    "i = df.sample(1).index[0]\n",
    "print(raw_df['LanguageHaveWorkedWith'].iloc[i])\n",
    "print(splitted_df['LanguageHaveWorkedWith'].iloc[i])"
   ]
  },
  {
   "cell_type": "code",
   "execution_count": 106,
   "id": "cebd1ef8-b099-483d-92f0-e4f71c2aff75",
   "metadata": {},
   "outputs": [
    {
     "name": "stdout",
     "output_type": "stream",
     "text": [
      "3\n",
      "3\n"
     ]
    }
   ],
   "source": [
    "i = df.sample(1).index[0]\n",
    "print(raw_df['YearsCodePro'].iloc[i])\n",
    "print(splitted_df['YearsCodePro'].iloc[i])"
   ]
  },
  {
   "cell_type": "markdown",
   "id": "ed886a74-0b9c-400d-85cd-21b64edce341",
   "metadata": {},
   "source": [
    "# Export Data"
   ]
  },
  {
   "cell_type": "code",
   "execution_count": 109,
   "id": "3184a15f-13fa-430c-83a2-098f80f28a19",
   "metadata": {},
   "outputs": [],
   "source": [
    "splitted_df.to_pickle(EXPORT_PATH + \"preprocessed_survey_results_public.csv\")"
   ]
  }
 ],
 "metadata": {
  "kernelspec": {
   "display_name": "Python 3 (ipykernel)",
   "language": "python",
   "name": "python3"
  },
  "language_info": {
   "codemirror_mode": {
    "name": "ipython",
    "version": 3
   },
   "file_extension": ".py",
   "mimetype": "text/x-python",
   "name": "python",
   "nbconvert_exporter": "python",
   "pygments_lexer": "ipython3",
   "version": "3.10.12"
  }
 },
 "nbformat": 4,
 "nbformat_minor": 5
}
